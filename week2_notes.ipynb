{
 "cells": [
  {
   "attachments": {},
   "cell_type": "markdown",
   "metadata": {},
   "source": [
    "# Operatinos Research 1 \n",
    "\n",
    "## Week 2\n",
    "\n",
    "# Content \n",
    "\n",
    "***\n"
   ]
  },
  {
   "attachments": {},
   "cell_type": "markdown",
   "metadata": {},
   "source": [
    "# Introduction to LP"
   ]
  },
  {
   "attachments": {},
   "cell_type": "markdown",
   "metadata": {},
   "source": [
    "- Product Mix\n",
    "\n",
    "- Production\n",
    "\n",
    "- Inventory\n",
    "\n",
    "- Personnel Scheduling\n",
    "\n",
    "All of this is related to resource allocation \n",
    "\n",
    "**Why LP**\n",
    "\n",
    "- it is used a lot in practice\n",
    "\n",
    "- possesses useful mathematical properties\n",
    "\n",
    "- good starting point\n",
    "\n"
   ]
  },
  {
   "attachments": {},
   "cell_type": "markdown",
   "metadata": {},
   "source": [
    "# Elements of mathematical program"
   ]
  },
  {
   "attachments": {},
   "cell_type": "markdown",
   "metadata": {},
   "source": [
    "Linear Programming - process of formulatig and solving **linear programm**. An LP is a **mathematical Programm** with some special properties.\n",
    "\n",
    "## Basic elementis of a program\n",
    "\n",
    "any mathematical program may be expressed through decision variables, objective function, constraints, parameters.\n",
    "\n",
    "- there are $m$ constraints and $n$ variables.\n",
    "\n",
    "- $x_{1}, x_{2}, \\cdots and x_{n}$, are real-valued variables.\n",
    "\n",
    "- The decision variables ,ay be written as vectors (decision vectors).\n",
    "\n",
    "- $f : R^{n} -> R and g_{i}: R^{n} -> R are all real-valued functions$\n",
    "\n",
    "- Mostly will omit $x_{j} \\in R$\n",
    "\n",
    "\n",
    "- square brackets = matrix or 1 column vector\n",
    "- paretesis = vectors\n",
    "\n",
    "\n",
    "## Transformation\n",
    "\n",
    "- you don't have to know how to solve all types of problems, because a maximization can be transformed as a minimization end viceversa.\n",
    "\n",
    "$$ \\text{max} f()x <-> \\text{min} -f(x)$$\n",
    "\n",
    "**For $= or \\leq or \\geq $ constraints**\n",
    "\n",
    "- $g_{i}(x)\\geq b_{i} <-> -g_{i}(x)\\leq -b_{i}$\n",
    "\n",
    "- $g_{i}(x) = b_{i} <-> g_{i}(x)\\leq b_{i}$ and $g_{i}(x) \\geq b_{i}, i.e., -g_{i}(x) \\leq -b_{i}$\n"
   ]
  },
  {
   "attachments": {},
   "cell_type": "markdown",
   "metadata": {},
   "source": [
    "## Sign constraints\n",
    "\n",
    "- **Sign constraints**: $x_{i} \\geq 0 or x_{i} \\leq 0 $\n",
    "\n",
    "- **Functional constraints**: all others\n",
    "\n",
    "\n",
    "For a variable $x_{i}$:\n",
    "\n",
    "- It is **nonnegative** if $x_{i} \\geq 0$.\n",
    "\n",
    "- It is **nonpositive** if $x_{i} \\leq 0$.\n",
    "\n",
    "- It is **unrestricted in sign** (urs.) or **free** if it has no sign constraint.\n"
   ]
  },
  {
   "attachments": {},
   "cell_type": "markdown",
   "metadata": {},
   "source": [
    "## Feasible solutions \n",
    "\n",
    "For a mathematical program:\n",
    "\n",
    "- A **feasible solution** satisfies all the constraints.\n",
    "\n",
    "- An **infeasible solution** violates at leats one constraint.\n",
    "\n",
    "\n",
    "\n"
   ]
  },
  {
   "attachments": {},
   "cell_type": "markdown",
   "metadata": {},
   "source": [
    "### Feasible region and optimal solutions\n",
    "\n",
    "- The **feasible region** (or **feasible set**) is the set of feasible solutions.\n",
    "    - The feasible region may be empty.\n",
    "\n",
    "- An **optimal solution** is a feasible solution thet:\n",
    "\n",
    "    - Attains the largest objective value for a maximization problem.\n",
    "    - Attains the smallest objective value for a minimization problem.\n",
    "    - In short, no feasible solution is better than it.\n",
    "\n",
    "\n",
    "- An optimal solution **may not** be unique.\n",
    "    - There may be multiple optimal solutions.\n",
    "    - There may be no optimal solution.\n",
    "\n"
   ]
  },
  {
   "attachments": {},
   "cell_type": "markdown",
   "metadata": {},
   "source": [
    "## Binding constraints \n",
    "\n",
    "At a solution, a constraint may be **binding**\n",
    "\n",
    "Binding and nonbinding constraints, are also called **active** and **inactive** constraints.\n",
    "\n",
    "**Definition**\n",
    "\n",
    "Let $g(\\cdot) \\leq b$ be an inequality constraint ans $x$ be a solution. $g(\\cdot) \\leq b$ is a binding at $x$ if $g(x) = b$ \n",
    "\n",
    "\n",
    "**\n",
    "\n",
    "- An inequality is **nonbinding** at a point if iit is strict at that point.\n",
    "- An equality constraint is always binding at any feasible solution.\n",
    "\n",
    "Example:\n",
    "\n",
    "$x_{1} + x_{2} \\leq 10$ is binding at $(x_{1}, x_{2} =(2,8))$.\n",
    "\n",
    "$2x_{1} + x_{2} \\geq 6$ is nonbinding at $(x_{1}, x_{2} =(2,8))$."
   ]
  },
  {
   "attachments": {},
   "cell_type": "markdown",
   "metadata": {},
   "source": [
    "## Strict constraints \n",
    "\n",
    "- An inequality may be **strict** or **weak**\n",
    "\n",
    "    - It is strict if the two sides cannot be equal. Example: $x_{1} + x_{2} > 5$\n",
    "    - It is weak if the two sides may be equal. Example: $x_{1} + x_{2} \\geq 5$\n",
    "\n",
    "\n",
    "- A \"practical\" mathematical programs's inequalities are **all weak**\n",
    "    - With strict inequalities, an optimal solution may not be attainable!\n",
    "\n",
    "\n",
    "- if we allow strict inequalities, the optimal solution will never be found. \n"
   ]
  },
  {
   "attachments": {},
   "cell_type": "markdown",
   "metadata": {},
   "source": [
    "***\n",
    "\n",
    "# Linear programming"
   ]
  },
  {
   "attachments": {},
   "cell_type": "markdown",
   "metadata": {},
   "source": [
    "How to express a mathematical program:\n",
    "\n",
    "$ \\text{min} f(x)$\n",
    "\n",
    "$ \\text {s.t.} g_{i}(x) \\leq b_{i} \\forall i = 1, \\dots, m,$\n",
    "\n",
    "is an LP if $f$ and $g_{i}s$ are all **linear** functions.\n",
    "\n",
    "<br>.... \n",
    "\n",
    "<br>\n",
    "\n",
    "Each of these linear functions might be expressed as \n",
    "\n",
    "$$ a_{1}x_{1} + a_{2}x_{2} + \\cdots a_{n}x_{n} = \\sum^{n}_{j=1} a_{j}x_{j},$$\n",
    "\n",
    "where $a_{j} \\in R, j=1, \\dots,n$ are the **coefficients**\n",
    "\n",
    "- We may write $a = (a_{1}, \\dots, a_{n})$ and $f(x) = a^T x.$\n",
    "\n",
    "\n",
    "<br>\n",
    "\n",
    "In general, an LP may always be expressed as:\n",
    "\n",
    "$\\text{min} \\sum^{n}_{j=1} c_{j}x_{j}$\n",
    "\n",
    "$\\text{s.t.} \\sum^{n}_{j=1} A_{ij}x_{j} \\leq b_{i} \\forall i = 1,\\dots,m$\n",
    "\n",
    "where:\n",
    "\n",
    "- A_{ij}s: **constraint coefficients**\n",
    "- b_{i}s: right-hand-side values (**RHS**)\n",
    "- c{j}s: **objective coefficients**\n",
    "\n",
    "<br>\n",
    "\n",
    "by **vectors**:\n",
    "\n",
    "$\\text{min} c^T x$\n",
    "\n",
    "$\\text{s.t.} a^{T}_{i} x \\leq b_{i} \\forall i = 1,\\dots,m$\n",
    "\n",
    "- $a_i \\in R^n, b_i \\in R, c \\in R^n$\n",
    "- $x \\in R^n$  \n",
    "\n",
    "<br>\n",
    "\n",
    "or by **matrices**:\n",
    "\n",
    "$\\text{min} c^T x$\n",
    "\n",
    "$\\text{s.t.} Ax \\leq b$\n",
    "\n",
    "- $A \\in R^mxn , b\\in R^m$\n",
    "\n",
    "<br>\n",
    "\n",
    "They are all **equivalent**."
   ]
  },
  {
   "attachments": {},
   "cell_type": "markdown",
   "metadata": {},
   "source": [
    "***\n",
    "\n",
    "# Graphical approach"
   ]
  },
  {
   "attachments": {},
   "cell_type": "markdown",
   "metadata": {},
   "source": [
    "For LP's with only two decision variables, we may solve them with the **graphical approach**\n",
    "\n",
    "Consider the following example:\n",
    "\n",
    "max $$ 2x_{1} + x_{2}$$\n",
    "\n",
    "s.t. $$x_1 \\leq 10$$\n",
    "$$ x_1 + 2x_2 \\leq 12$$\n",
    "$$ x_1 - 2x_2 \\geq - 8 $$\n",
    "$$ x_1  \\geq 0$$\n",
    "$$ x_2 \\geq 0 $$\n",
    "\n",
    "<br>"
   ]
  },
  {
   "attachments": {},
   "cell_type": "markdown",
   "metadata": {},
   "source": [
    "## Steps to solve"
   ]
  },
  {
   "attachments": {},
   "cell_type": "markdown",
   "metadata": {},
   "source": [
    "1. Draw the feasible region\n",
    "- Draw each constraint one by one, and then find the intersection"
   ]
  },
  {
   "cell_type": "code",
   "execution_count": 11,
   "metadata": {},
   "outputs": [
    {
     "data": {
      "image/png": "[encoded data removed]",
      "text/plain": [
       "<Figure size 640x480 with 1 Axes>"
      ]
     },
     "metadata": {},
     "output_type": "display_data"
    }
   ],
   "source": [
    "import matplotlib.pyplot as plt\n",
    "import numpy as np\n",
    "\n",
    "# Define the constraints\n",
    "x1 = np.linspace(0, 10, 100)\n",
    "x2_1 = (12 - x1) / 2\n",
    "x2_2 = (x1 + 8) / 2\n",
    "x2_3 = np.zeros_like(x1)\n",
    "\n",
    "# Set up the plot\n",
    "fig, ax = plt.subplots()\n",
    "ax.set_xlim(0, 10)\n",
    "ax.set_ylim(-1, 8)\n",
    "\n",
    "# Plotting the constraints\n",
    "ax.plot(x1, x2_1, label=r'$x_1 + 2x_2 \\leq 12$')\n",
    "ax.plot(x1, x2_2, label=r'$x_1 - 2x_2 \\geq -8$')\n",
    "ax.plot(x1, x2_3, label=r'$x_1 \\leq 10$', linestyle='dashed')\n",
    "ax.plot(np.zeros_like(x2_1), x2_1, label=r'$x_2 \\geq 0$', linestyle='dashed')\n",
    "\n",
    "# Labeling the axes and adding a legend\n",
    "ax.set_xlabel('$x_1$')\n",
    "ax.set_ylabel('$x_2$')\n",
    "ax.legend()\n",
    "\n",
    "# Display the plot\n",
    "plt.grid(True)\n",
    "plt.show()\n"
   ]
  },
  {
   "attachments": {},
   "cell_type": "markdown",
   "metadata": {},
   "source": [
    "2. Draw some **isoquant lines**\n",
    "\n",
    "- A line such that all points on it result in the same objective value. \n",
    "\n",
    "- Also called **isoprofit** or **isocost** lines when its appropiate.\n",
    "\n",
    "- Also called **indifference lines** (curves) in Economics.\n",
    "\n",
    "There might be a lot of isoquant lines. They are all parallel."
   ]
  },
  {
   "cell_type": "code",
   "execution_count": 13,
   "metadata": {},
   "outputs": [
    {
     "data": {
      "image/png": "[encoded data removed]",
      "text/plain": [
       "<Figure size 640x480 with 1 Axes>"
      ]
     },
     "metadata": {},
     "output_type": "display_data"
    }
   ],
   "source": [
    "# Define the constraints\n",
    "x1 = np.linspace(0, 10, 100)\n",
    "x2_1 = (12 - x1) / 2\n",
    "x2_2 = (x1 + 8) / 2\n",
    "x2_3 = np.zeros_like(x1)\n",
    "\n",
    "# Define the objective function\n",
    "z = 2 * x1 + x2_1\n",
    "\n",
    "# Set up the plot\n",
    "fig, ax = plt.subplots()\n",
    "ax.set_xlim(0, 10)\n",
    "ax.set_ylim(-1, 7)  # Adjusted y-axis limits\n",
    "\n",
    "# Plotting the constraints\n",
    "ax.plot(x1, x2_1, label=r'$x_1 + 2x_2 \\leq 12$')\n",
    "ax.plot(x1, x2_2, label=r'$x_1 - 2x_2 \\geq -8$')\n",
    "ax.plot(x1, x2_3, label=r'$x_1 \\leq 10$', linestyle='dashed')\n",
    "ax.plot(np.zeros_like(x2_1), x2_1, label=r'$x_2 \\geq 0$', linestyle='dashed')\n",
    "\n",
    "# Plotting the isoquant lines\n",
    "isoquant_values = np.array([4, 8])\n",
    "for val in isoquant_values:\n",
    "    x2_isoquant = val - 2 * x1\n",
    "    ax.plot(x1, x2_isoquant, label=f'$2x_1 + x_2 = {val}$', linestyle='dotted')\n",
    "\n",
    "# Labeling the axes and adding a legend\n",
    "ax.set_xlabel('$x_1$')\n",
    "ax.set_ylabel('$x_2$')\n",
    "ax.legend()\n",
    "\n",
    "# Display the plot\n",
    "plt.grid(True)ax.plot(optimal_x1, optimal_x2, 'ro', label='Optimal Point')\n",
    "plt.show()\n"
   ]
  },
  {
   "attachments": {},
   "cell_type": "markdown",
   "metadata": {},
   "source": [
    "3. Indicate the direction to push the isoquant line.\n",
    "\n",
    "- The direction that **decreases**/increases the objective value for a **minimization**/maximization problem.\n",
    "\n",
    "\n",
    "4. Push the isoquant line to the \"end\" of the feasible reagion. \n",
    "\n",
    "- Stop when any further step makes all points on the isocost line infeasible."
   ]
  },
  {
   "cell_type": "code",
   "execution_count": 38,
   "metadata": {},
   "outputs": [
    {
     "data": {
      "image/png": "[encoded data removed]",
      "text/plain": [
       "<Figure size 640x480 with 1 Axes>"
      ]
     },
     "metadata": {},
     "output_type": "display_data"
    }
   ],
   "source": [
    "# Define the constraints\n",
    "x1 = np.linspace(0, 10, 100)\n",
    "x2_1 = (12 - x1) / 2\n",
    "x2_2 = (x1 + 8) / 2\n",
    "x2_3 = np.zeros_like(x1)\n",
    "x = np.ones(100) * 10\n",
    "y = np.linspace(-10, 10, 100)\n",
    "\n",
    "# Define the objective function\n",
    "z = 2 * x1 + x2_1\n",
    "\n",
    "# Set up the plot\n",
    "fig, ax = plt.subplots()\n",
    "ax.set_xlim(0, 11)\n",
    "ax.set_ylim(-1, 7)  # Adjusted y-axis limits\n",
    "\n",
    "# Plotting the constraints\n",
    "ax.plot(x1, x2_1, label=r'$x_1 + 2x_2 \\leq 12$')\n",
    "ax.plot(x1, x2_2, label=r'$x_1 - 2x_2 \\geq -8$')\n",
    "ax.plot(x1, x2_3, label=r'$x_1 \\leq 0$', linestyle='dashed')\n",
    "ax.plot(np.zeros_like(x2_1), x2_1, label=r'$x_2 \\geq 0$', linestyle='dashed')\n",
    "ax.plot(x, y, label=r'$x_1 \\leq 10$')\n",
    "\n",
    "# Plotting the isoquant lines\n",
    "isoquant_values = np.array([21])\n",
    "for val in isoquant_values:\n",
    "    x2_isoquant = val - 2 * x1\n",
    "    ax.plot(x1, x2_isoquant, label=f'$2x_1 + x_2 = {val}$', linestyle='dotted')\n",
    "\n",
    "ax.plot(10, 1, 'ro', label='Optimal Point')\n",
    "\n",
    "# Labeling the axes and adding a legend\n",
    "ax.set_xlabel('$x_1$')\n",
    "ax.set_ylabel('$x_2$')\n",
    "ax.legend()\n",
    "\n",
    "# Display the plot\n",
    "plt.grid(True)\n",
    "plt.show()\n"
   ]
  },
  {
   "attachments": {},
   "cell_type": "markdown",
   "metadata": {},
   "source": [
    "5. Identify the binding constraints at an optimal solution. Typically you have two. Move until you have 2.\n",
    "\n",
    "6. Set the bindig constraints to equalities and then solve the linear system for an optimal solution. \n",
    "\n",
    "Example: solve the linear system in any way.\n",
    "\n",
    "$$ x_1 = 10 $$\n",
    "$$ x_1 + 2x_2 =12$$\n",
    "\n",
    "and we obtain $x^*_{1} , x^*_{2} = (10,1)$.\n",
    "\n",
    "7. Plug in an optimal solution obtained into the objective function to get the associated objective value.\n",
    "\n",
    "$$ 2x^*_{1} , x^*_{2} = 21$$\n"
   ]
  },
  {
   "attachments": {},
   "cell_type": "markdown",
   "metadata": {},
   "source": [
    "## Where to stop?\n"
   ]
  },
  {
   "attachments": {},
   "cell_type": "markdown",
   "metadata": {},
   "source": [
    "- Intuitively, we **always** stop at a \"Corner\" (or an edge).\n",
    "\n",
    "- Is this intuition still true for LPs with more than two variables? Yes\n",
    "    - a more rigorous definition od \"corners\" exists."
   ]
  },
  {
   "attachments": {},
   "cell_type": "markdown",
   "metadata": {},
   "source": [
    "***\n",
    "\n",
    "# Three types of LPs"
   ]
  },
  {
   "attachments": {},
   "cell_type": "markdown",
   "metadata": {},
   "source": [
    "For any LPs, it must be one of the following:\n",
    "- Infeasible\n",
    "- Unbounded \n",
    "- Finitely optimal (having an optimal solution)\n",
    "\n",
    "<br>\n",
    "\n",
    "A finitely optimal LP may have:\n",
    "- A unique optimal solution\n",
    "- Multiple optimal solutions\n"
   ]
  },
  {
   "attachments": {},
   "cell_type": "markdown",
   "metadata": {},
   "source": [
    "## Infeasibility\n",
    "\n",
    "- An LP is infeasible if its feasible region is empty. If there's no way to sadisfy all the constraints at the same time. "
   ]
  },
  {
   "attachments": {},
   "cell_type": "markdown",
   "metadata": {},
   "source": [
    "\n",
    "## Unboundedness\n",
    "\n",
    "- An LP is **unbounded** if for any feasible solution, there is another feasible solution that is better. There's always something better because there is no limit. \n",
    "\n",
    "**Important**\n",
    "\n",
    "- Note that an unbounded feasible region **does not imply** an unbounded LP!\n",
    "\n",
    "Example:\n",
    "\n",
    "You may have an unbounded feasible region towards the right (maximize), but you have a minimization problem (left of the feasible region). So you may find an optimal solution to the minimization, because there's a stop point. "
   ]
  },
  {
   "attachments": {},
   "cell_type": "markdown",
   "metadata": {},
   "source": [
    "## Finitely Optimal\n",
    "\n",
    "If an LP is neither infeasible nor unbounded, it is finitely optimal."
   ]
  },
  {
   "attachments": {},
   "cell_type": "markdown",
   "metadata": {},
   "source": [
    "## Multiple optimal solutions\n",
    "\n",
    "A linear program may have multiple optimal solutions.\n",
    "\n",
    "- If the slope of the isoquant line is identical to that of one constraint (parallel). But not always.\n",
    "\n",
    "In solving an LP in practice, we only want to find **an** optimal solution, not all. \n"
   ]
  },
  {
   "attachments": {},
   "cell_type": "markdown",
   "metadata": {},
   "source": [
    "***\n",
    "\n",
    "# Simple LP formulation"
   ]
  },
  {
   "attachments": {},
   "cell_type": "markdown",
   "metadata": {},
   "source": [
    "How to model practical situations as an LP -> leads to \"solve the problem\".\n",
    "\n",
    "- This process is called **LP formulation** or **modeling**"
   ]
  },
  {
   "attachments": {},
   "cell_type": "markdown",
   "metadata": {},
   "source": [
    "## Product mix problem"
   ]
  },
  {
   "attachments": {},
   "cell_type": "markdown",
   "metadata": {},
   "source": [
    "\n",
    "- Several products to sell\n",
    "\n",
    "- Each product requires some resources. **Resources are limited**\n",
    "\n",
    "- Objective: To maximize the total sales revenue with avalilable resources. \n",
    "\n"
   ]
  },
  {
   "attachments": {},
   "cell_type": "markdown",
   "metadata": {},
   "source": [
    "### Problem description"
   ]
  },
  {
   "attachments": {},
   "cell_type": "markdown",
   "metadata": {},
   "source": [
    "- We produce desk and tables\n",
    "    - Producing a desk requires three units of wood, one hour of labor, and 50 minutes if machine time.\n",
    "    - Producing a table requires five units of wood, two hours of labor, and 20 minutes of machine time.\n",
    "\n",
    "- we may sell everything we produce.\n",
    "\n",
    "- For each day, we have:\n",
    "    - Two hundred workers that each works for eight hours.\n",
    "    - Fifty machines that each runs for sisteen hours.\n",
    "    - A supply of 3600 units of wood.\n",
    "\n",
    "- Desks and tables are sold at $700 and $900 per unit, respectively."
   ]
  },
  {
   "attachments": {},
   "cell_type": "markdown",
   "metadata": {},
   "source": [
    "### Define Variables\n",
    "\n",
    "Let \n",
    "\n",
    "$x_{1} = numbers of desks produced in a day$\n",
    "\n",
    "$x_{2} = number of tables produced in a day$\n"
   ]
  },
  {
   "attachments": {},
   "cell_type": "markdown",
   "metadata": {},
   "source": [
    "### Define objective function \n",
    "\n",
    "Maximize the total sales revenue.\n",
    "\n",
    "$$\\text{max}  700x_{1} + 900x_{2}$$"
   ]
  },
  {
   "attachments": {},
   "cell_type": "markdown",
   "metadata": {},
   "source": [
    "### Define Constraints or Limitations\n",
    "\n",
    "1. Supply of wood :\n",
    "\n",
    "$ 3x_{1} + 5x_{2} \\leq 3600$\n",
    "\n",
    "2. Labor hours is limited:\n",
    "\n",
    "$x_{1} + 2x_{2} \\leq 1600$\n",
    "\n",
    "3. Machine time limitation:\n",
    "\n",
    "$50x_{1} + 20x_{2} \\leq 48000$"
   ]
  },
  {
   "attachments": {},
   "cell_type": "markdown",
   "metadata": {},
   "source": [
    "### Complete formulation\n",
    "\n",
    "max $700x_{1} + 900x_{2}$\n",
    "\n",
    "s.t. $ 3x_{1} + 5x_{2} \\leq 3600$ (wood)\n",
    "\n",
    "$x_{1} + 2x_{2} \\leq 1600$ (labor)\n",
    "    \n",
    "$50x_{1} + 20x_{2} \\leq 48000$ (machine)\n",
    "\n",
    "$x_{1} \\geq 0$\n",
    "\n",
    "$x_{2} \\geq 0$\n",
    "\n",
    "\n",
    "In any case:\n",
    "\n",
    "- **Clearly** define decision variables **in front of** your formulation. \n",
    "- Write **comments** after the objective function and constraints.\n",
    "    "
   ]
  },
  {
   "attachments": {},
   "cell_type": "markdown",
   "metadata": {},
   "source": [
    "### Solve"
   ]
  },
  {
   "attachments": {},
   "cell_type": "markdown",
   "metadata": {},
   "source": [
    "### Interpretation\n",
    "\n",
    "An optimal solution of this LP is (884.21, 189.47)\n",
    "\n",
    "- we may **suggest** to produce 884 desks and 189 tables per day.\n",
    "\n",
    "- It still **supports** our decision making. \n",
    "\n",
    "- It may not really be optimal, but we spend a very short time to make a good suggestion. \n",
    "\n",
    "- \"All models are wrong, but some are useful\".\n",
    "\n",
    "- Always round down. To round up might violate some constraints.\n"
   ]
  },
  {
   "attachments": {},
   "cell_type": "markdown",
   "metadata": {},
   "source": [
    "## Production and inventory problem"
   ]
  },
  {
   "attachments": {},
   "cell_type": "markdown",
   "metadata": {},
   "source": [
    "- When we are making decisions, we may also consider what will happen in the **future**\n",
    "\n",
    "- This creates a **multi-period** problem\n",
    "\n",
    "- Products produced today may be **stored** and then sold in the future:\n",
    "    - Maybe daily capacity is not enough.\n",
    "    - Maybe production is cheaper today.\n",
    "    - Maybe the price is higher in the future\n",
    "\n",
    "- So the production decision must be jointly considered with the inventory decision."
   ]
  },
  {
   "attachments": {},
   "cell_type": "markdown",
   "metadata": {},
   "source": [
    "### Problem Description\n",
    "\n",
    "- We produce and sell a product.\n",
    "\n",
    "- For the coming four days, the marketing manager has promised to fulfill the following amount of demands:\n",
    "\n",
    "    - Days 1,2,4 and 4: 100, 150, 200, and 170 units, respectively.\n",
    "\n",
    "- The unit production cost are different for different days:\n",
    "    - Days 1,2,3 and 4: $9, $12, $10, and $12 per unit, respectively.\n",
    "\n",
    "- The prices are **all fixed**. So maximizing profits is the same as minimizing costs. \n",
    "\n",
    "- We may store a product and sell it later.\n",
    "    - The **inventory cost** $1 per unit per day. "
   ]
  },
  {
   "attachments": {},
   "cell_type": "markdown",
   "metadata": {},
   "source": [
    "#### Timing \n",
    "\n",
    "- Beggining inventori + production - sales = ending inventory\n",
    "\n",
    "- Inventory costs are calculated acording to **ending inventory**\n",
    "\n"
   ]
  },
  {
   "attachments": {},
   "cell_type": "markdown",
   "metadata": {},
   "source": [
    "### Define Variables\n",
    "\n",
    "Let \n",
    "\n",
    "$x_{t}$ = production quantity of day $t$, $t = 1, \\dots, 4 $\n",
    "\n",
    "$y_{t}$ = **ending** inventory of day $t$, $t = 1, \\dots, 4$\n",
    "\n"
   ]
  },
  {
   "attachments": {},
   "cell_type": "markdown",
   "metadata": {},
   "source": [
    "### Define Objective Function\n",
    "\n",
    "Minimize \n",
    "\n",
    "$$\\text{min} 9x_1 + 12x_2 + 10x_3 + 12x_4 +y_1 + y_2 + y_3 + y_4$$\n",
    "\n"
   ]
  },
  {
   "attachments": {},
   "cell_type": "markdown",
   "metadata": {},
   "source": [
    "### Define Constraints\n",
    "\n",
    "1. **Inventory Balancing** constraints\n",
    "\n",
    "Day 1: $x_1 - 100 = y_1$\n",
    "\n",
    "Day 2: $y_1 + x_2 -150 = y_2$\n",
    "\n",
    "Day 3: $y_2 + x_3 - 200 = y_3$\n",
    "\n",
    "Day 4: $y_3 + x_4 -170 = y_4$\n",
    "\n",
    "\n",
    "2. Fulfillment of demands at the moment of sales:\n",
    "\n",
    "$x_1 \\geq 100$\n",
    "\n",
    "$y_1 + x_2 \\geq 150$\n",
    "\n",
    "$y_2 + x_3 \\geq 200$\n",
    "\n",
    "$ y_3 + X_4 \\geq 170$\n",
    "\n",
    "\n",
    "3. Production and inventory cannot be negative\n",
    "\n",
    "$x_{t}, y_{t} \\geq 0, \\forall t = 1,\\dots, 4$\n"
   ]
  },
  {
   "attachments": {},
   "cell_type": "markdown",
   "metadata": {},
   "source": [
    "#### Simplifying the formulation\n",
    "\n",
    "- Inventory balancing and nonnegativity inply demand fulfillment, so this are redundat constraints.\n",
    "\n",
    "- Removing them, **does not** affect the feasible region, and helps to reduce the complexity of the program.\n",
    "\n",
    "\n",
    "- Simplyfication is not always suggested (at this stage):\n",
    "    - It is not requires because a solver will sii this.\n",
    "    - It is too difficult if the instance scale is large\n",
    "\n",
    "<br>\n",
    "\n",
    "- In summary, simplification is good but in most cases **unnecessary**.\n"
   ]
  },
  {
   "attachments": {},
   "cell_type": "markdown",
   "metadata": {},
   "source": [
    "### Complete formulation\n",
    "\n",
    "Min $9x_1 + 12x_2 + 10x_3 + 12x_4 +y_1 + y_2 + y_3 + y_4$\n",
    "\n",
    "S.t.  $x_1 - 100 = y_1$\n",
    "\n",
    "$y_1 + x_2 -150 = y_2$\n",
    "\n",
    "$y_2 + x_3 - 200 = y_3$\n",
    "\n",
    "$y_3 + x_4 -170 = y_4$\n",
    "\n",
    "$x_{t}, y_{t} \\geq 0, \\forall t = 1,\\dots, 4$"
   ]
  },
  {
   "attachments": {},
   "cell_type": "markdown",
   "metadata": {},
   "source": [
    "## Personnel scheduling problem"
   ]
  },
  {
   "attachments": {},
   "cell_type": "markdown",
   "metadata": {},
   "source": [
    "### Problem Description\n",
    "\n",
    "- We are scheduling employees in a department store. \n",
    "\n",
    "    - Each employee must work for **five consecutive days** and then take rest for two consecutive days.\n",
    "\n",
    "<br>\n",
    "- The number of employees required for each day:\n",
    "\n",
    "\n",
    "| Mon | Tue | Wen | Thu | Fri | Sat | Sun |\n",
    "| --- | --- | --- | --- | --- | --- | --- |\n",
    "| 110 | 80 | 150 | 30 | 70 | 160 | 120 | \n",
    "\n",
    "<br>\n",
    "\n",
    "- There are seven **shifts**: Monday to Friday, Tuesday to Saturday,  $\\dots$, and Sunday to Thursday.\n",
    "\n",
    "- We want to **minimize** the number of employees hired.\n"
   ]
  },
  {
   "attachments": {},
   "cell_type": "markdown",
   "metadata": {},
   "source": [
    "### Define Variables\n",
    "\n",
    "- Let Monday be day 1, Tuesday be day 2, etc. \n",
    "\n",
    "$x_{i}$ = Number if employees who starts to work from day $i$ for five consecutive days. \n",
    "\n"
   ]
  },
  {
   "attachments": {},
   "cell_type": "markdown",
   "metadata": {},
   "source": [
    "### Define Objective Function\n",
    "\n",
    "Minimize the number of employees hired.\n",
    "\n",
    "$$\\text{Min} \\sum x_{i}, \\forall i = 1, 2, \\dots, 7. $$"
   ]
  },
  {
   "attachments": {},
   "cell_type": "markdown",
   "metadata": {},
   "source": [
    "### Define Constraints\n",
    "\n",
    "1. Demand Fulfillment:\n",
    "\n",
    "- 110 employees are needed on Monday: ($x_3 and x_2$ don't have to work on Monday)\n",
    "\n",
    "$$ x_1 + x_4 + x_5 + x_6 + x_7 \\geq 110$$\n",
    "\n",
    "- 80 employees are needed on Tuesday:\n",
    "\n",
    "$$ x_1 + x_2 + x_5 + x_6 + x_7 \\geq 80$$\n",
    "\n",
    "- 120 employees are needed on Sunday:\n",
    "\n",
    "$$ x_3 + x_4 + x_5 + x_6 + x_7 \\geq 120$$\n",
    "\n",
    "\n",
    "And so on...\n",
    "\n",
    "\n",
    "2. Nonnegativity constraints: \n",
    "\n",
    "$$x_{i} \\geq 0, \\forall 1, \\dots, 7.$$"
   ]
  },
  {
   "attachments": {},
   "cell_type": "markdown",
   "metadata": {},
   "source": [
    "***\n",
    "\n",
    "# Compact LP formulation\n"
   ]
  },
  {
   "attachments": {},
   "cell_type": "markdown",
   "metadata": {},
   "source": [
    "In practice, most problem instances are of **large scales** (the number of variables and constraints are huge).\n",
    "\n",
    "- Many variables and many constraints may be grouped together:\n",
    "\n",
    "$x_t$ = production quantity of day $t, t = 1, \\dots , 4. $\n",
    "\n",
    "$ x_t \\geq 0, \\forall t = 1, \\dots, 4.$\n",
    "\n",
    "- **Compact formulations** enhace readability and efficiency.\n",
    "\n",
    "Three instruments for this:\n",
    "\n",
    "- Indices ($i,j,k,\\dots$).\n",
    "\n",
    "- Summation ($\\sum$).\n",
    "\n",
    "- For all ($\\forall$)."
   ]
  },
  {
   "attachments": {},
   "cell_type": "markdown",
   "metadata": {},
   "source": [
    "## Production and inventory problem"
   ]
  },
  {
   "attachments": {},
   "cell_type": "markdown",
   "metadata": {},
   "source": [
    "- We have serial periods. In each period, we first produce and then sell.\n",
    "- Unsold products become ending inventories.\n",
    "- We want to minimize the total cost\n",
    "\n",
    "**Indices**: Things will **repeat in each period**\n",
    "\n",
    "Let $ t \\in \\{1, \\dots, 4\\}$ be the index of periods.\n",
    "\n",
    "\n",
    "For the **Objective Function**:\n",
    "\n",
    "$$\\text{min} 9x_1 + 12x_2 + 10x_3 + 12x_4 +y_1 + y_2 + y_3 + y_4$$\n",
    "\n",
    "if we denote the unit production cost in a dat $t$ as $C_t, t = 1, \\dots, 4$, We may rewrite it as: \n",
    "\n",
    "$$ \\text{min} \\sum^{4}_{t=1} (C_{t} x_{t} + y_{t})$$"
   ]
  },
  {
   "attachments": {},
   "cell_type": "markdown",
   "metadata": {},
   "source": [
    "### Compact constraints\n",
    "\n",
    "**Originals**: \n",
    "$x_1 - 100 = y_1$\n",
    "\n",
    "$y_1 + x_2 -150 = y_2$\n",
    "\n",
    "$y_2 + x_3 - 200 = y_3$\n",
    "\n",
    "$y_3 + x_4 -170 = y_4$\n",
    "\n",
    "\n",
    "$D_t$ = demand on day $t, t = 1, \\dots, 4$:\n",
    "\n",
    "- For $t= 2,\\dots, 4$: $y_{t-1} + x_t - D_t = y_t$\n",
    "- This does not apply to day 1, as $y_0$ is undefined.\n",
    "\n",
    "\n",
    "<br>\n",
    "\n",
    "To group the for contraints into one compact constraint, we add and additional variable $y_0$:\n",
    "\n",
    "$y_t$ = Ending inventory of day $t, t = 0, \\dots , 4.$\n",
    "\n",
    "\n",
    "Then we can write just one compact constraint: \n",
    "\n",
    "$$ y_{t-1} + x_t - D_t = y_t, \\forall t = 1, \\dots, 4 $$\n",
    "\n",
    "- Certainly we need to set up the initial inventory: $y_0 = 0$"
   ]
  },
  {
   "attachments": {},
   "cell_type": "markdown",
   "metadata": {},
   "source": [
    "### Compact formulation\n",
    "\n",
    "Min $\\sum^{4}_{t=1} (C_t x_t + y_t)$\n",
    "\n",
    "s.t. $ y_{t-1} + x_t - D_t = y_t, \\forall t = 1, \\dots, 4 $\n",
    "\n",
    "$y_0 = 0 $\n",
    "\n",
    "$x_{t}, y_{t} \\geq 0, \\forall t = 1,\\dots, 4$\n",
    "\n",
    "\n"
   ]
  },
  {
   "attachments": {},
   "cell_type": "markdown",
   "metadata": {},
   "source": [
    "**Important stuff**\n",
    "\n",
    "- **Do not forget** the \"for-all\" statements, without them, the formulation is wrong.\n",
    "\n",
    "- One convention is to:\n",
    "\n",
    "    - Use **lowecase** letters for variables\n",
    "    - Use **uppercase** letters for parameters"
   ]
  },
  {
   "attachments": {},
   "cell_type": "markdown",
   "metadata": {},
   "source": [
    "### Parameter Declaration"
   ]
  },
  {
   "attachments": {},
   "cell_type": "markdown",
   "metadata": {},
   "source": [
    "When creating parameter sets, we write comething like \n",
    "\n",
    "denote $C_t$ as the unit production cost on day $t, t = 1, \\dots, 4.$\n",
    " \n",
    "- Do not need to specify values, even tough we have those values.\n",
    "- Need to speficy the **range** through **indices**.\n",
    "\n",
    "<br>\n",
    "\n",
    "Parameter declarations should be at the beginning of formulation.\n",
    "\n",
    "Parameters and variables are **diferent**:\n",
    "\n",
    "- Variables are those to be determined. We do not know there values before we solve the model.\n",
    "\n",
    "- Parameters are given with known values. \n",
    "\n",
    "- Parameters are **exogenous**(fixed, given) and variables are **endogenous** (they can be determined by us)."
   ]
  },
  {
   "attachments": {},
   "cell_type": "markdown",
   "metadata": {},
   "source": [
    "## Product mix problem"
   ]
  },
  {
   "attachments": {},
   "cell_type": "markdown",
   "metadata": {},
   "source": [
    "- Let $n$ be the number of products and $m$ be the number of resources. \n",
    "\n",
    "- Let $j$ and $i$ be the indices for products and resources, respectively. \n",
    "\n",
    "- Denote the unit sales price of product $j$ as $P_j$, supply limit of resources $i$ as $R_i$, and unit of resourse $i$ required for producing one unit of product $j$ as $A_ij$ where $i = 1,\\dots, m; j= 1, \\dots, n.$\n",
    "\n",
    "- Let $x_j$ be the production quantity for product $j, j = 1, \\dots, n.$\n",
    "\n",
    "\n",
    "The compact formulation is:\n",
    "\n",
    "Max $\\sum^{n}_{j=1} P_j x_j$\n",
    "\n",
    "s.t. $ \\sum^{n}_{j=1} A_ij x_j \\leq R_i, \\forall i = 1, \\dots, m.$\n",
    "\n",
    "$x_j \\geq 0, \\forall j = 1, \\dots, n$."
   ]
  },
  {
   "attachments": {},
   "cell_type": "markdown",
   "metadata": {},
   "source": [
    "### Use of Sets\n",
    "\n",
    "- Let's define $J = \\{1, \\dots, n \\}$ as the set of products and $I = \\{1, \\dots, m\\}$ as the set of resources.\n",
    "\n",
    "Max $\\sum^{n}_{j \\in J} P_j x_j$\n",
    "\n",
    "s.t. $ \\sum^{n}_{j \\in J} A_ij x_j \\leq R_i, \\forall i \\in I$\n",
    "\n",
    "$x_j \\geq 0, \\forall j \\in J$."
   ]
  },
  {
   "attachments": {},
   "cell_type": "markdown",
   "metadata": {},
   "source": [
    "### Problems vs. instances"
   ]
  },
  {
   "attachments": {},
   "cell_type": "markdown",
   "metadata": {},
   "source": [
    "- A **problem** is an abstract description of a task to be completed or a question to be solved. \n",
    "\n",
    "    - When we express everything with symbols, we have a problem.\n",
    "\n",
    "- An **instance** is a concrete specification of a problem.\n",
    "\n",
    "    - When we plug in concrete values into symbols, we obtain an instance.\n",
    "\n",
    "- A compact formulation describes a problem.\n",
    "\n",
    "- A numeric formulation specifies an instance. "
   ]
  },
  {
   "attachments": {},
   "cell_type": "markdown",
   "metadata": {},
   "source": [
    "***\n",
    "\n",
    "# Example 1 - producing desks and tables"
   ]
  },
  {
   "attachments": {},
   "cell_type": "markdown",
   "metadata": {},
   "source": [
    "*** \n",
    "\n",
    "# Example 2: personnel scheduling"
   ]
  }
 ],
 "metadata": {
  "kernelspec": {
   "display_name": "Course_Operations_Research_1-r_zSmePB",
   "language": "python",
   "name": "python3"
  },
  "language_info": {
   "codemirror_mode": {
    "name": "ipython",
    "version": 3
   },
   "file_extension": ".py",
   "mimetype": "text/x-python",
   "name": "python",
   "nbconvert_exporter": "python",
   "pygments_lexer": "ipython3",
   "version": "3.10.6"
  },
  "orig_nbformat": 4
 },
 "nbformat": 4,
 "nbformat_minor": 2
}
