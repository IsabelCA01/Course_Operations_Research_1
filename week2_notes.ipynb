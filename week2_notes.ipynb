{
 "cells": [
  {
   "attachments": {},
   "cell_type": "markdown",
   "metadata": {},
   "source": [
    "# Operatinos Research 1 \n",
    "\n",
    "## Week 2\n",
    "\n",
    "# Content \n",
    "\n",
    "***\n"
   ]
  },
  {
   "attachments": {},
   "cell_type": "markdown",
   "metadata": {},
   "source": [
    "# Introduction to LP"
   ]
  },
  {
   "attachments": {},
   "cell_type": "markdown",
   "metadata": {},
   "source": [
    "- Product Mix\n",
    "\n",
    "- Production\n",
    "\n",
    "- Inventory\n",
    "\n",
    "- Personnel Scheduling\n",
    "\n",
    "All of this is related to resource allocation \n",
    "\n",
    "**Why LP**\n",
    "\n",
    "- it is used a lot in practice\n",
    "\n",
    "- possesses useful mathematical properties\n",
    "\n",
    "- good starting point\n",
    "\n"
   ]
  },
  {
   "attachments": {},
   "cell_type": "markdown",
   "metadata": {},
   "source": [
    "# Elements of mathematical program"
   ]
  },
  {
   "attachments": {},
   "cell_type": "markdown",
   "metadata": {},
   "source": [
    "Linear Programming - process of formulatig and solving **linear programm**. An LP is a **mathematical Programm** with some special properties.\n",
    "\n",
    "## Basic elementis of a program\n",
    "\n",
    "any mathematical program may be expressed through decision variables, objective function, constraints, parameters.\n",
    "\n",
    "- there are $m$ constraints and $n$ variables.\n",
    "\n",
    "- $x_{1}, x_{2}, \\cdots and x_{n}$, are real-valued variables.\n",
    "\n",
    "- The decision variables ,ay be written as vectors (decision vectors).\n",
    "\n",
    "- $f : R^{n} -> R and g_{i}: R^{n} -> R are all real-valued functions$\n",
    "\n",
    "- Mostly will omit $x_{j} \\in R$\n",
    "\n",
    "\n",
    "- square brackets = matrix or 1 column vector\n",
    "- paretesis = vectors\n",
    "\n",
    "\n",
    "## Transformation\n",
    "\n",
    "- you don't have to know how to solve all types of problems, because a maximization can be transformed as a minimization end viceversa.\n",
    "\n",
    "$$ \\text{max} f()x <-> \\text{min} -f(x)$$\n",
    "\n",
    "**For $= or \\leq or \\geq $ constraints**\n",
    "\n",
    "- $g_{i}(x)\\geq b_{i} <-> -g_{i}(x)\\leq -b_{i}$\n",
    "\n",
    "- $g_{i}(x) = b_{i} <-> g_{i}(x)\\leq b_{i}$ and $g_{i}(x) \\geq b_{i}, i.e., -g_{i}(x) \\leq -b_{i}$\n"
   ]
  },
  {
   "attachments": {},
   "cell_type": "markdown",
   "metadata": {},
   "source": [
    "## Sign constraints\n",
    "\n",
    "- **Sign constraints**: $x_{i} \\geq 0 or x_{i} \\leq 0 $\n",
    "\n",
    "- **Functional constraints**: all others\n",
    "\n",
    "\n",
    "For a variable $x_{i}$:\n",
    "\n",
    "- It is **nonnegative** if $x_{i} \\geq 0$.\n",
    "\n",
    "- It is **nonpositive** if $x_{i} \\leq 0$.\n",
    "\n",
    "- It is **unrestricted in sign** (urs.) or **free** if it has no sign constraint.\n"
   ]
  },
  {
   "attachments": {},
   "cell_type": "markdown",
   "metadata": {},
   "source": [
    "## Feasible solutions \n",
    "\n",
    "For a mathematical program:\n",
    "\n",
    "- A **feasible solution** satisfies all the constraints.\n",
    "\n",
    "- An **infeasible solution** violates at leats one constraint.\n",
    "\n",
    "\n",
    "\n"
   ]
  },
  {
   "attachments": {},
   "cell_type": "markdown",
   "metadata": {},
   "source": [
    "### Feasible region and optimal solutions\n",
    "\n",
    "- The **feasible region** (or **feasible set**) is the set of feasible solutions.\n",
    "    - The feasible region may be empty.\n",
    "\n",
    "- An **optimal solution** is a feasible solution thet:\n",
    "\n",
    "    - Attains the largest objective value for a maximization problem.\n",
    "    - Attains the smallest objective value for a minimization problem.\n",
    "    - In short, no feasible solution is better than it.\n",
    "\n",
    "\n",
    "- An optimal solution **may not** be unique.\n",
    "    - There may be multiple optimal solutions.\n",
    "    - There may be no optimal solution.\n",
    "\n"
   ]
  },
  {
   "attachments": {},
   "cell_type": "markdown",
   "metadata": {},
   "source": [
    "## Binding constraints \n",
    "\n",
    "At a solution, a constraint may be **binding**\n",
    "\n",
    "Binding and nonbinding constraints, are also called **active** and **inactive** constraints.\n",
    "\n",
    "**Definition**\n",
    "\n",
    "Let $g(\\cdot) \\leq b$ be an inequality constraint ans $x$ be a solution. $g(\\cdot) \\leq b$ is a binding at $x$ if $g(x) = b$ \n",
    "\n",
    "\n",
    "**\n",
    "\n",
    "- An inequality is **nonbinding** at a point if iit is strict at that point.\n",
    "- An equality constraint is always binding at any feasible solution.\n",
    "\n",
    "Example:\n",
    "\n",
    "$x_{1} + x_{2} \\leq 10$ is binding at $(x_{1}, x_{2} =(2,8))$.\n",
    "\n",
    "$2x_{1} + x_{2} \\geq 6$ is nonbinding at $(x_{1}, x_{2} =(2,8))$."
   ]
  },
  {
   "attachments": {},
   "cell_type": "markdown",
   "metadata": {},
   "source": [
    "## Strict constraints \n",
    "\n",
    "- An inequality may be **strict** or **weak**\n",
    "\n",
    "    - It is strict if the two sides cannot be equal. Example: $x_{1} + x_{2} > 5$\n",
    "    - It is weak if the two sides may be equal. Example: $x_{1} + x_{2} \\geq 5$\n",
    "\n",
    "\n",
    "- A \"practical\" mathematical programs's inequalities are **all weak**\n",
    "    - With strict inequalities, an optimal solution may not be attainable!\n",
    "\n",
    "\n",
    "- if we allow strict inequalities, the optimal solution will never be found. \n"
   ]
  },
  {
   "attachments": {},
   "cell_type": "markdown",
   "metadata": {},
   "source": [
    "***\n",
    "\n",
    "# Linear programming"
   ]
  },
  {
   "attachments": {},
   "cell_type": "markdown",
   "metadata": {},
   "source": [
    "***\n",
    "\n",
    "# Graphical approach"
   ]
  },
  {
   "attachments": {},
   "cell_type": "markdown",
   "metadata": {},
   "source": [
    "***\n",
    "\n",
    "# Three types of LPs"
   ]
  },
  {
   "attachments": {},
   "cell_type": "markdown",
   "metadata": {},
   "source": [
    "***\n",
    "\n",
    "# Simple LP formulation"
   ]
  },
  {
   "attachments": {},
   "cell_type": "markdown",
   "metadata": {},
   "source": [
    "## Product mix"
   ]
  },
  {
   "attachments": {},
   "cell_type": "markdown",
   "metadata": {},
   "source": [
    "## Production and inventory"
   ]
  },
  {
   "attachments": {},
   "cell_type": "markdown",
   "metadata": {},
   "source": [
    "## Personnel scheduling"
   ]
  },
  {
   "attachments": {},
   "cell_type": "markdown",
   "metadata": {},
   "source": [
    "***\n",
    "\n",
    "# Compact LP formulation\n"
   ]
  },
  {
   "attachments": {},
   "cell_type": "markdown",
   "metadata": {},
   "source": [
    "## Production and inventory"
   ]
  },
  {
   "attachments": {},
   "cell_type": "markdown",
   "metadata": {},
   "source": [
    "## Product mix"
   ]
  },
  {
   "attachments": {},
   "cell_type": "markdown",
   "metadata": {},
   "source": [
    "***\n",
    "\n",
    "# Computers - The solver add-in and Example 1 - producing desks and tables"
   ]
  },
  {
   "attachments": {},
   "cell_type": "markdown",
   "metadata": {},
   "source": [
    "*** \n",
    "\n",
    "# Computers - Example 2: personnel scheduling"
   ]
  }
 ],
 "metadata": {
  "kernelspec": {
   "display_name": "Course_Operations_Research_1-r_zSmePB",
   "language": "python",
   "name": "python3"
  },
  "language_info": {
   "codemirror_mode": {
    "name": "ipython",
    "version": 3
   },
   "file_extension": ".py",
   "mimetype": "text/x-python",
   "name": "python",
   "nbconvert_exporter": "python",
   "pygments_lexer": "ipython3",
   "version": "3.10.6"
  },
  "orig_nbformat": 4
 },
 "nbformat": 4,
 "nbformat_minor": 2
}
