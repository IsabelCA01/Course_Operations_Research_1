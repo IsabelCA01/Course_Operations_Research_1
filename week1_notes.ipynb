{
 "cells": [
  {
   "attachments": {},
   "cell_type": "markdown",
   "metadata": {},
   "source": [
    "# Operations research 1: Models and applications. \n",
    "## Week 1 notes\n",
    "\n",
    "***"
   ]
  },
  {
   "attachments": {},
   "cell_type": "markdown",
   "metadata": {},
   "source": [
    "# Motivation"
   ]
  },
  {
   "attachments": {},
   "cell_type": "markdown",
   "metadata": {},
   "source": [
    "## What is management?\n",
    "\n",
    "is the attainment of **organizational goals** in an effective and effective manner through planning, organizing, leading and controlling **organizational resources.**\n",
    "\n",
    "## What are resources in an organization?\n",
    "\n",
    "- Limited\n",
    "- Careful allocation of them.\n",
    "\n",
    "## Resource allocation\n",
    "\n",
    "- Setting an objective requires strategic thinking, experience, vision\n",
    "- uses Operations Research:\n",
    "\n",
    "1.  Managment science\n",
    "2.  Decision science\n",
    "3.  Optimization Method/algorithm\n",
    "4.  Mathematical programming\n",
    "\n",
    "Precedence rules: some things need to be completed before the start of the other.\n",
    "\n",
    "## Operations research\n",
    "\n",
    "**Textbook:** Introduction to operation Research by Hillier and Lieberman (ninth edition)\n",
    "\n",
    "Is the methodology to allocate the avalible resources to the various activities in a way that is most effective for the organization as a whole.\n",
    "Applied to problems that concern how to conduct and coordinate the operations within an organization.\n",
    "\n",
    "It aims to support **decision making**."
   ]
  },
  {
   "attachments": {},
   "cell_type": "markdown",
   "metadata": {},
   "source": [
    "***\n",
    "# Business analytics\n"
   ]
  },
  {
   "attachments": {},
   "cell_type": "markdown",
   "metadata": {},
   "source": [
    "\n",
    "### Contains:\n",
    "\n",
    "- **Descriptive analysis:** **What happened.** With historical data.\n",
    "- **Predictive analytics:** **What will happen**. With historicak data. With prediction model\n",
    "- **Prescriptive analytics:** **What should we do.** With historical data. With prediction model. With decision model.\n",
    "\n",
    "### Two steps:\n",
    "\n",
    "- Data analysis: Collect information and undestand the problem\n",
    "- Operations research: Allocate resources and solve the problem\n",
    "\n",
    "## The process of conducting an OR study\n",
    "\n",
    "Data analysis and OR are always connected.\n",
    "\n",
    "1.  Collect data\n",
    "2.  Define the problem\n",
    "3.  Data are sufficient? If no, go back to collect data. If yes continue\n",
    "4.  Formulate a model\n",
    "5.  Solve the model\n",
    "6.  Is the model good? if not, go back and reformulate the model. If yes, continue\n",
    "7.  Interpret results, make suggestions.\n",
    "\n",
    "## Analytics is not everything\n",
    "\n",
    "### Advantages\n",
    "\n",
    "- It describes a problem in a precise and concise way (among people between a person and a computer)\n",
    "- It facilitates the use of computers to solve a problem whose model has been formulated.\n",
    "\n",
    "### Disadvantages\n",
    "\n",
    "- Some of the problems are hard to be formulated into mathematical models\n",
    "- Some critical information is missing\n",
    "\n",
    "* * *"
   ]
  },
  {
   "attachments": {},
   "cell_type": "markdown",
   "metadata": {},
   "source": [
    "***\n",
    "# Mathematical Programming"
   ]
  },
  {
   "attachments": {},
   "cell_type": "markdown",
   "metadata": {},
   "source": [
    "## Knapsack Problem"
   ]
  },
  {
   "attachments": {},
   "cell_type": "markdown",
   "metadata": {},
   "source": [
    "### Problem"
   ]
  },
  {
   "attachments": {},
   "cell_type": "markdown",
   "metadata": {},
   "source": [
    "\n",
    "- You are preparing for hiking. There are some useful items, but your backpack can only carry 5 kilograms.\n",
    "- An item cannot be split: each item should be either chosen or discarded.\n",
    "- Which items should you bring to maximize the total value?\n",
    "\n",
    "| ID | Item   | Weight | Value | Value/Weight |\n",
    "| ---- | ----- | ------ | ------ | ---------|\n",
    "| 1  | compass| 0.5    | 6     | 12\n",
    "| 2 | hatchet | 1.5 | 5 |3.33\n",
    "| 3 | matches | 0.4 | 4 |10\n",
    "| 4 | tarpaulin | 1 | 4 |4\n",
    "| 5 | telescope | 1.1 | 3|2.73\n",
    "|6| cylinder|1.6|4|2.5\n",
    "|7| Rilakkuma|0.8|1|1.25\n"
   ]
  },
  {
   "attachments": {},
   "cell_type": "markdown",
   "metadata": {},
   "source": [
    "### Problem analysis"
   ]
  },
  {
   "attachments": {},
   "cell_type": "markdown",
   "metadata": {},
   "source": [
    "**Sets**\n",
    "\n",
    "$I$ = set of items\n"
   ]
  },
  {
   "attachments": {},
   "cell_type": "markdown",
   "metadata": {},
   "source": [
    "**Parameters**\n",
    "\n",
    "$w_{i}$ = weight of item $i$,  $\\forall i \\in I$\n",
    "\n",
    "$v_{i}$ = value of item $i$, $\\forall i \\in I$\n",
    "\n",
    "$n$ = Number of items\n",
    "\n",
    "$wmax$ = maximun allowable weight\n"
   ]
  },
  {
   "attachments": {},
   "cell_type": "markdown",
   "metadata": {},
   "source": [
    "**Decision Variables**\n",
    "\n",
    "$x_{i}$ = 1 if item is chosen\n",
    "\n",
    "$x_{i}$ = 0 otherwhise"
   ]
  },
  {
   "attachments": {},
   "cell_type": "markdown",
   "metadata": {},
   "source": [
    "**Objective function**\n",
    "\n",
    "Maximize the total of items chosen\n",
    "\n",
    "$$\\text{max} \\sum^{n}_{\\forall i=1} v_{i} x_{i}$$\n"
   ]
  },
  {
   "attachments": {},
   "cell_type": "markdown",
   "metadata": {},
   "source": [
    "**Constrains**\n",
    "\n",
    "1. Weight limit\n",
    "\n",
    "$$\\sum^{n}_{\\forall i=1} w_{i} x_{i} \\leq B\n"
   ]
  },
  {
   "attachments": {},
   "cell_type": "markdown",
   "metadata": {},
   "source": [
    "2. Decision Variable constrain\n",
    "\n",
    "$$ x_{i} \\in \\{0,1\\} , \\forall i = 1,\\ldots,n.$$"
   ]
  },
  {
   "attachments": {},
   "cell_type": "markdown",
   "metadata": {},
   "source": [
    "### Model"
   ]
  },
  {
   "cell_type": "code",
   "execution_count": 13,
   "metadata": {},
   "outputs": [],
   "source": [
    "import pyomo.environ as pyo"
   ]
  },
  {
   "cell_type": "code",
   "execution_count": 14,
   "metadata": {},
   "outputs": [],
   "source": [
    "model = pyo.ConcreteModel(name=\"Knapsack Problem\", doc=\"Knapsack Problem\")"
   ]
  },
  {
   "cell_type": "code",
   "execution_count": 15,
   "metadata": {},
   "outputs": [],
   "source": [
    "#Define Sets\n",
    "\n",
    "ITEMS = [\"Compass\", \"Hatchet\", \"Matches\", \"Tarpaulin\", \"Telescope\", \"Cylinder\", \"Rilakkuma\"]\n",
    "\n",
    "model.I = pyo.Set(initialize=ITEMS, doc=\"Items\")\n"
   ]
  },
  {
   "cell_type": "code",
   "execution_count": 16,
   "metadata": {},
   "outputs": [],
   "source": [
    "#Define Parameters\n",
    "wi = {\"Compass\": 0.5, \n",
    "    \"Hatchet\": 1.5,\n",
    "    \"Matches\": 0.4,\n",
    "    \"Tarpaulin\": 1,\n",
    "    \"Telescope\": 1.1,\n",
    "    \"Cylinder\": 0.6,\n",
    "    \"Rilakkuma\": 0.8}\n",
    "\n",
    "vi = {\"Compass\": 6,\n",
    "    \"Hatchet\": 5,\n",
    "    \"Matches\": 4,\n",
    "    \"Tarpaulin\": 4,\n",
    "    \"Telescope\": 3,\n",
    "    \"Cylinder\": 4,\n",
    "    \"Rilakkuma\": 1}\n",
    "\n",
    "wmax= 5\n",
    "\n",
    "model.wi = pyo.Param(model.I, initialize=wi, doc=\"Weight of each item\")\n",
    "model.vi = pyo.Param(model.I, initialize=vi, doc=\"Value of each item\")\n",
    "model.wmax = pyo.Param(initialize=wmax, doc=\"Maximum weight\")"
   ]
  },
  {
   "cell_type": "code",
   "execution_count": 17,
   "metadata": {},
   "outputs": [],
   "source": [
    "# Define Variables\n",
    "model.xi = pyo.Var(model.I, domain=pyo.Binary, doc=\"Item is packed\")"
   ]
  },
  {
   "cell_type": "code",
   "execution_count": 18,
   "metadata": {},
   "outputs": [],
   "source": [
    "# Define Objective\n",
    "def cost_function(model):\n",
    "    return sum(model.vi[i] * model.xi[i] for i in model.I)\n",
    "\n",
    "model.objective = pyo.Objective(rule=cost_function, sense=pyo.maximize, doc=\"Total value of items packed\")"
   ]
  },
  {
   "cell_type": "code",
   "execution_count": 19,
   "metadata": {},
   "outputs": [],
   "source": [
    "# Define Constraints\n",
    "\n",
    "#1. Weight Constraint \n",
    "\n",
    "def weight_limit_max(model):\n",
    "    return sum(model.wi[i] * model.xi[i] for i in model.I) <= model.wmax\n",
    "\n",
    "model.weight_limit_max = pyo.Constraint(rule=weight_limit_max, doc=\"Maximum weight constraint\")\n"
   ]
  },
  {
   "cell_type": "code",
   "execution_count": 20,
   "metadata": {},
   "outputs": [
    {
     "name": "stdout",
     "output_type": "stream",
     "text": [
      "Knapsack Problem\n",
      "\n",
      "    1 Set Declarations\n",
      "        I : Items\n",
      "            Size=1, Index=None, Ordered=Insertion\n",
      "            Key  : Dimen : Domain : Size : Members\n",
      "            None :     1 :    Any :    7 : {'Compass', 'Hatchet', 'Matches', 'Tarpaulin', 'Telescope', 'Cylinder', 'Rilakkuma'}\n",
      "\n",
      "    3 Param Declarations\n",
      "        vi : Value of each item\n",
      "            Size=7, Index=I, Domain=Any, Default=None, Mutable=False\n",
      "            Key       : Value\n",
      "              Compass :     6\n",
      "             Cylinder :     4\n",
      "              Hatchet :     5\n",
      "              Matches :     4\n",
      "            Rilakkuma :     1\n",
      "            Tarpaulin :     4\n",
      "            Telescope :     3\n",
      "        wi : Weight of each item\n",
      "            Size=7, Index=I, Domain=Any, Default=None, Mutable=False\n",
      "            Key       : Value\n",
      "              Compass :   0.5\n",
      "             Cylinder :   0.6\n",
      "              Hatchet :   1.5\n",
      "              Matches :   0.4\n",
      "            Rilakkuma :   0.8\n",
      "            Tarpaulin :     1\n",
      "            Telescope :   1.1\n",
      "        wmax : Maximum weight\n",
      "            Size=1, Index=None, Domain=Any, Default=None, Mutable=False\n",
      "            Key  : Value\n",
      "            None :     5\n",
      "\n",
      "    1 Var Declarations\n",
      "        xi : Item is packed\n",
      "            Size=7, Index=I\n",
      "            Key       : Lower : Value : Upper : Fixed : Stale : Domain\n",
      "              Compass :     0 :  None :     1 : False :  True : Binary\n",
      "             Cylinder :     0 :  None :     1 : False :  True : Binary\n",
      "              Hatchet :     0 :  None :     1 : False :  True : Binary\n",
      "              Matches :     0 :  None :     1 : False :  True : Binary\n",
      "            Rilakkuma :     0 :  None :     1 : False :  True : Binary\n",
      "            Tarpaulin :     0 :  None :     1 : False :  True : Binary\n",
      "            Telescope :     0 :  None :     1 : False :  True : Binary\n",
      "\n",
      "    1 Objective Declarations\n",
      "        objective : Total value of items packed\n",
      "            Size=1, Index=None, Active=True\n",
      "            Key  : Active : Sense    : Expression\n",
      "            None :   True : maximize : 6*xi[Compass] + 5*xi[Hatchet] + 4*xi[Matches] + 4*xi[Tarpaulin] + 3*xi[Telescope] + 4*xi[Cylinder] + xi[Rilakkuma]\n",
      "\n",
      "    1 Constraint Declarations\n",
      "        weight_limit_max : Maximum weight constraint\n",
      "            Size=1, Index=None, Active=True\n",
      "            Key  : Lower : Body                                                                                                                           : Upper : Active\n",
      "            None :  -Inf : 0.5*xi[Compass] + 1.5*xi[Hatchet] + 0.4*xi[Matches] + xi[Tarpaulin] + 1.1*xi[Telescope] + 0.6*xi[Cylinder] + 0.8*xi[Rilakkuma] :   5.0 :   True\n",
      "\n",
      "    7 Declarations: I wi vi wmax xi objective weight_limit_max\n"
     ]
    }
   ],
   "source": [
    "#Visuzalize Model\n",
    "\n",
    "model.pprint()"
   ]
  },
  {
   "attachments": {},
   "cell_type": "markdown",
   "metadata": {},
   "source": [
    "### Solve the model"
   ]
  },
  {
   "cell_type": "code",
   "execution_count": 33,
   "metadata": {},
   "outputs": [],
   "source": [
    "solver = pyo.SolverFactory(\"ipopt\")\n"
   ]
  },
  {
   "cell_type": "code",
   "execution_count": null,
   "metadata": {},
   "outputs": [],
   "source": [
    "solver.solve(model, tee=True)"
   ]
  },
  {
   "cell_type": "code",
   "execution_count": null,
   "metadata": {},
   "outputs": [],
   "source": [
    "model.objective.expr()"
   ]
  },
  {
   "cell_type": "code",
   "execution_count": null,
   "metadata": {},
   "outputs": [],
   "source": [
    "model.xi.display()"
   ]
  },
  {
   "attachments": {},
   "cell_type": "markdown",
   "metadata": {},
   "source": [
    "## Linear programming vs. integer programming \n"
   ]
  },
  {
   "attachments": {},
   "cell_type": "markdown",
   "metadata": {},
   "source": [
    "**Linear programm** \n",
    "\n",
    "$0\\leq x_{i} \\leq 1$\n",
    "\n",
    "$x_{i}$ can take any value between 0 and 1\n",
    "\n",
    "**Integer programm**\n",
    "\n",
    "$ x_{i} \\in \\{0,1\\}$\n",
    "\n",
    "$x_{i}$ can only be a 0 or a 1"
   ]
  },
  {
   "attachments": {},
   "cell_type": "markdown",
   "metadata": {},
   "source": [
    "***\n",
    "# History"
   ]
  },
  {
   "attachments": {},
   "cell_type": "markdown",
   "metadata": {},
   "source": [
    "- **George Dantzig** (1914 - 2005)\n",
    "\n",
    "    - Ph.D in statistics\n",
    "    - He solved two well-known difficult problems which were mistakenly considered as homework assigment\n",
    "\n",
    "\n",
    "    - He found many problems are linear optimization problems\n",
    "    - No one is able to systematecally solve large-scale optimization problems\n",
    "    \n",
    "\n",
    "    - He invented the **symplex method**:\n",
    "        - The first effective solution for linear programming in the world.\n",
    "        - Still an important part in commercial software nowadays.\n",
    "\n",
    "\n",
    "**Succesful stories**\n",
    "\n",
    "- United Airlines\n",
    "- Swift & Company\n",
    "\n",
    "\n",
    "**Linear Programming**\n",
    "\n",
    "- Has been widely used for goverment, business, and organizations.\n",
    "\n",
    "- Two linear programming scholars, **Leonid Kantorivich** and **Tjalling Koopmans**, are awarded the 1975 Nobel Prize in economic sciences, for their contibutions to the theory of **\"optimun allocation of resources\"**\n",
    "\n"
   ]
  }
 ],
 "metadata": {
  "kernelspec": {
   "display_name": "Course_Operations_Research_1-r_zSmePB",
   "language": "python",
   "name": "python3"
  },
  "language_info": {
   "codemirror_mode": {
    "name": "ipython",
    "version": 3
   },
   "file_extension": ".py",
   "mimetype": "text/x-python",
   "name": "python",
   "nbconvert_exporter": "python",
   "pygments_lexer": "ipython3",
   "version": "3.10.6"
  },
  "orig_nbformat": 4
 },
 "nbformat": 4,
 "nbformat_minor": 2
}
